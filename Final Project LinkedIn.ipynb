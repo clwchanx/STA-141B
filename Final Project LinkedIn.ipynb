{
 "cells": [
  {
   "cell_type": "code",
   "execution_count": 1,
   "id": "b90e4061",
   "metadata": {},
   "outputs": [],
   "source": [
    "#packages\n",
    "import requests\n",
    "import numpy as np\n",
    "import pandas as pd\n",
    "from bs4 import BeautifulSoup \n",
    "import nltk\n",
    "import numpy as np\n",
    "import re\n",
    "from nltk.corpus import wordnet\n",
    "from selenium import webdriver"
   ]
  },
  {
   "cell_type": "code",
   "execution_count": 2,
   "id": "f4065445",
   "metadata": {},
   "outputs": [],
   "source": [
    "def raw_text(url):\n",
    "    \"\"\"Takes a URL as input and performs web scrapping to retrieve the body of the\n",
    "    webpage (in this case a Linkedin ad)\"\"\"\n",
    "    ad = requests.get(url) #Retrieve webpage\n",
    "    Html = BeautifulSoup(ad.text, 'html.parser') #Convert html into a nicer format\n",
    "    text_body = Html.find_all('div', \n",
    "                              {'class':\"show-more-less-html__markup show-more-less-html__markup--clamp-after-5\"})\n",
    "    text_body = text_body[0].text\n",
    "    return text_body\n",
    "def clean_text(doc):\n",
    "    \"\"\"Take an unstructured document and tokenize it into a list of words. \n",
    "    Then standardize it by lowercasing and lemmatizing each word\"\"\"\n",
    "    words = re.findall(r'(?:[a-zA-Z]|#|\"+\")+',doc) #Find all alphabetical words (Preserve + and # for C++ and C#)\n",
    "    clean = [i for i in words if i.isupper() or i.islower()] #Retrieve all words that aren't glued to each other\n",
    "    dirty = [i for i in words if not i.islower() and not i.isupper()] #Retrieve words stuck together\n",
    "    dirty = [re.findall('[a-zA-Z][^A-Z]*',i) for i in dirty] #Split all the tangled words ie split 'ThisExample' into ['This','Example']\n",
    "    clean2 = [j for i in dirty for j in i] #Unlist the list of lists\n",
    "    words = clean + clean2 #Combine all the words together\n",
    "    stopwords = nltk.corpus.stopwords.words(\"english\")\n",
    "    words = [i.lower() for i in words] #Lowercase all words\n",
    "    words = [i for i in words if i not in stopwords] #Filter out stopwords\n",
    "    tag_words = nltk.pos_tag(words) #Begin lemmatizing by tagging each word\n",
    "    tag_words = [(i, wordnet_pos(j)) for (i, j) in tag_words] #Convert the tags into something the lemmatizer understands\n",
    "    lemmatizer = nltk.WordNetLemmatizer()\n",
    "    clean_words = [lemmatizer.lemmatize(i, j) for i, j in tag_words] #Lemmatize the words\n",
    "    #Document should be cleaned up\n",
    "    return clean_words\n",
    "def wordnet_pos(tag):\n",
    "    \"\"\"Map a Brown POS tag to a WordNet POS tag.\"\"\"\n",
    "    \n",
    "    table = {\"N\": wordnet.NOUN, \"V\": wordnet.VERB, \"R\": wordnet.ADV, \"J\": wordnet.ADJ}\n",
    "    \n",
    "    # Default to a noun.\n",
    "    return table.get(tag[0], wordnet.NOUN) #Function created by Bo Ning in Week 6-2\n",
    "def lang_count(TXT):\n",
    "    \"\"\" Take a body of clean text and count the number of programming languages present\"\"\"\n",
    "    languages = ['python','r','sql','sa','c',\n",
    "                 'c++','c#','java','javascript',\n",
    "                 'julia','matlab','swift','tableau'\n",
    "                'microsoft','github'] #SAS turns into sa after lemmatization\n",
    "    #ADD MORE LANGUAGES IF NECESSARY\n",
    "    count = sum([i in TXT for i in languages]) #Check if each language is in the ad\n",
    "    #And sum the number of programming languages present\n",
    "    return count\n",
    "def get_salary(TXT):\n",
    "    \"\"\"From a body of raw text, retrieve the salary\"\"\"\n",
    "    salaries = re.findall(r\"(\\$\\d+\\,\\d+\\.\\d{1,2})\",TXT) #Find all numbers with $ , and .\n",
    "    if salaries != []:\n",
    "        return salaries[-1] #Let's work with the maximum salary\n",
    "    else:\n",
    "        salaries = re.findall(r\"(\\$\\d+\\,\\d+)\",TXT) \n",
    "        if salaries != []:\n",
    "            return salaries[-1]\n",
    "        else:\n",
    "            return \"NaN\"\n",
    "def ML_skill(TXT):\n",
    "    \"\"\"Using a body of clean text, check whether the words machine learning is present\n",
    "    to see if it is a required skill\"\"\"\n",
    "    return str(int('machine' in TXT and 'learning' in TXT))\n",
    "def get_edu(TXT):\n",
    "    \"\"\"Using a body of raw text, retrieve the education level\"\"\"\n",
    "    if \"Master\" in TXT and \"Bachelor\" in TXT:\n",
    "        return \"4\" #Category where Bachlor's is minimum but higher level preferred\n",
    "    elif \"PhD\" in TXT:\n",
    "        return \"3\"\n",
    "    elif \"Master\" in TXT:\n",
    "        return \"2\"\n",
    "    elif \"Bachelor\" in TXT:\n",
    "        return \"1\"\n",
    "    else:\n",
    "        return \"0\" #No education specified\n",
    "def ad_type(TXT):\n",
    "    \"\"\"Using a body of clean text, check whether this is an ad for data analyst or scientists\"\"\"\n",
    "    return str(int(\"science\" in TXT))\n",
    "def benefits(TXT):\n",
    "    \"\"\"Using a body of raw text, check if benefits are included\"\"\"\n",
    "    return str(int('Benefits' in TXT or 'benefits' in TXT))\n",
    "def exp(TXT):\n",
    "    \"\"\"Using a body of raw text, check if experience is required/preferred\"\"\"\n",
    "    sentences = nltk.sent_tokenize(TXT) #Split text into sentences\n",
    "    years = [re.findall(r\"\\d+.*year\", i) for i in sentences] #Find sentences with years in it\n",
    "    for items in years:\n",
    "        if items != []:\n",
    "            years = [i for i in years if i != []][0][0] #Get rid of empty values and turn the years of experience into a string\n",
    "            year = re.findall(r'\\d+',years)[0]\n",
    "            return year\n",
    "    return \"NaN\""
   ]
  },
  {
   "cell_type": "code",
   "execution_count": 3,
   "id": "33b88216",
   "metadata": {},
   "outputs": [],
   "source": [
    "def collect_data(url):\n",
    "    \"\"\"Input a URL for a Linkedin Ad and retrieve all relevant data\"\"\"\n",
    "    raw = raw_text(url)\n",
    "    clean = clean_text(raw)\n",
    "    return {'Languages':lang_count(clean),\n",
    "            'Salary':get_salary(raw),\n",
    "            'Machine Learning':ML_skill(clean),\n",
    "            'Education':get_edu(raw),\n",
    "            'Type': ad_type(clean),\n",
    "            'Benefits':benefits(raw),\n",
    "            'Experience':exp(raw),\n",
    "            'url':url}"
   ]
  },
  {
   "cell_type": "code",
   "execution_count": 4,
   "id": "b932dfac",
   "metadata": {},
   "outputs": [],
   "source": [
    "url = [\n",
    "    'https://www.linkedin.com/jobs/view/3249211510/?alternateChannel=search&refId=VD198ZoVfaKwgiB8zkGpbw%3D%3D&trackingId=BqYouS74cmZGHpxL9C2ZGA%3D%3D&trk=d_flagship3_search_srp_jobs',\n",
    "    'https://www.linkedin.com/jobs/view/3487242175/?alternateChannel=search&refId=JXABqO3QZgv%2BLHOKFDE7fw%3D%3D&trackingId=N9I6sffo3LQS3fZ%2BA%2BKsEg%3D%3D&trk=d_flagship3_search_srp_jobs',\n",
    "    'https://www.linkedin.com/jobs/view/3505418682/?alternateChannel=search&refId=%2BpaSeyQbeKD%2BxYKKAizIPQ%3D%3D&trackingId=0Lxb1PxTW7n%2FDV7rrhIG8Q%3D%3D&trk=d_flagship3_search_srp_jobs',\n",
    "    'https://www.linkedin.com/jobs/view/3498974602/?alternateChannel=search&refId=UgS%2BLnzOxzd0o5lfBwrIUg%3D%3D&trackingId=gzR56kYgzIfDemBhp74f6g%3D%3D&trk=d_flagship3_search_srp_jobs',\n",
    "    'https://www.linkedin.com/jobs/view/3508607089/?alternateChannel=search&refId=mjF%2Bzo2ld8vXVKBKARXTYA%3D%3D&trackingId=loqcIsi7A8CL8Vmop62OSg%3D%3D&trk=d_flagship3_search_srp_jobs',\n",
    "    'https://www.linkedin.com/jobs/view/3456862041/?alternateChannel=search&refId=mjF%2Bzo2ld8vXVKBKARXTYA%3D%3D&trackingId=juDPb5S4%2ByysHmbv9JDl5g%3D%3D&trk=d_flagship3_search_srp_jobs',\n",
    "    'https://www.linkedin.com/jobs/view/3507843178/?alternateChannel=search&refId=mjF%2Bzo2ld8vXVKBKARXTYA%3D%3D&trackingId=XHD%2B27dW8g8P%2BKaCAw4emQ%3D%3D&trk=d_flagship3_search_srp_jobs',\n",
    "    'https://www.linkedin.com/jobs/view/3507141700/?alternateChannel=search&refId=mjF%2Bzo2ld8vXVKBKARXTYA%3D%3D&trackingId=P54YAehQYvhHb1JvgxN8ag%3D%3D&trk=d_flagship3_search_srp_jobs',\n",
    "    'https://www.linkedin.com/jobs/view/3492916139/?alternateChannel=search&refId=NWABB47NCvXLKrd7Ykt7TA%3D%3D&trackingId=a3nC%2BSZ6wfMUPl3mewKU1g%3D%3D&trk=d_flagship3_search_srp_jobs',\n",
    "    'https://www.linkedin.com/jobs/view/3499269839/?alternateChannel=search&refId=NWABB47NCvXLKrd7Ykt7TA%3D%3D&trackingId=V6OqJudkv7yK35YLX9NdbA%3D%3D&trk=d_flagship3_search_srp_jobs',\n",
    "    'https://www.linkedin.com/jobs/view/3499255853/?alternateChannel=search&refId=NWABB47NCvXLKrd7Ykt7TA%3D%3D&trackingId=mJh5WrzLB4mTkKzDIU3zXw%3D%3D&trk=d_flagship3_search_srp_jobs',\n",
    "    'https://www.linkedin.com/jobs/view/3511632332/?alternateChannel=search&refId=mjF%2Bzo2ld8vXVKBKARXTYA%3D%3D&trackingId=lEarBtUbrbcWqTvWU6XeOQ%3D%3D&trk=d_flagship3_search_srp_jobs',\n",
    "    'https://www.linkedin.com/jobs/view/3505403106/?alternateChannel=search&refId=mjF%2Bzo2ld8vXVKBKARXTYA%3D%3D&trackingId=ZwAL4nT5X%2F%2BZqwyio47svA%3D%3D&trk=d_flagship3_search_srp_jobs',\n",
    "    'https://www.linkedin.com/jobs/view/3512272186/?alternateChannel=search&refId=mjF%2Bzo2ld8vXVKBKARXTYA%3D%3D&trackingId=DuDxT6L0wnOVfyTzr789Xg%3D%3D&trk=d_flagship3_search_srp_jobs',\n",
    "    'https://www.linkedin.com/jobs/view/3499126864/?alternateChannel=search&refId=NWABB47NCvXLKrd7Ykt7TA%3D%3D&trackingId=StIEWFb2FP%2FWkYGpYw24Nw%3D%3D&trk=d_flagship3_search_srp_jobs',\n",
    "    'https://www.linkedin.com/jobs/view/3505977879/?alternateChannel=search&refId=mjF%2Bzo2ld8vXVKBKARXTYA%3D%3D&trackingId=WkyM1jycSWWDghtmqQcMlw%3D%3D&trk=d_flagship3_search_srp_jobs',\n",
    "    'https://www.linkedin.com/jobs/view/3509655528/?alternateChannel=search&refId=gPWJCLIvYpWYFGgTxJqtJw%3D%3D&trackingId=Vt2F8v9iONwtg%2BQnfuGIow%3D%3D&trk=d_flagship3_search_srp_jobs',\n",
    "    'https://www.linkedin.com/jobs/view/3505977879/?alternateChannel=search&refId=gPWJCLIvYpWYFGgTxJqtJw%3D%3D&trackingId=Dlqta%2BGB01lG1%2FZ3C0q7AQ%3D%3D&trk=d_flagship3_search_srp_jobs',\n",
    "    'https://www.linkedin.com/jobs/view/3487142091/?alternateChannel=search&refId=eUf97BLKMcJCe7F8oZDXrQ%3D%3D&trackingId=Cqns7vrChI9d3IyXc4sWhA%3D%3D&trk=d_flagship3_search_srp_jobs',\n",
    "    'https://www.linkedin.com/jobs/view/3488691439/?alternateChannel=search&refId=NWABB47NCvXLKrd7Ykt7TA%3D%3D&trackingId=7QSNY3MZRgXIP%2F7L9Hb6TA%3D%3D&trk=d_flagship3_search_srp_jobs',\n",
    "    'https://www.linkedin.com/jobs/view/3491778866/?alternateChannel=search&eBP=CwEAAAGGrnZxmz-4qudDf0AdmTbtkBai6eckvna0nULvtPTyWR3KcRAlWohbkoheImFe6yrm0PJGCqms3ANrie3eQ-zOxZRQbiemcoTXSvd0m2aUuSP3_shuvJGjJAFGTLmtgwN8SjwrMcqjk57QmvxZRVbL4iCeeS8GhQGSatY6sMgtNtBK1wWP4hgWr5bULp_WIt9nkD_D-V4Q-Ef0ncD9AzGOw4o3s6vEaWVcp-b_CThnm8pycRz5T6xECAOSoKAn_8Et9HMrH6T-isrNFi7vAE37x5hbjg1EXnXR1q45NOObNqm8v_D169Q-ZXScDreN2dYIuPSehS4TtesZZioygUYMZV0nVrjeu25ZQN8onUq1eIxTWgflHdowbddk3ti6BI8kOQ&refId=NWABB47NCvXLKrd7Ykt7TA%3D%3D&trackingId=QYFx7G1E1JVHSs1rAAH6%2Bw%3D%3D&trk=d_flagship3_search_srp_jobs',\n",
    "    'https://www.linkedin.com/jobs/view/3496731411/?alternateChannel=search&refId=eUf97BLKMcJCe7F8oZDXrQ%3D%3D&trackingId=WHPyV1Ya1NlCbfjMXJjV%2BQ%3D%3D&trk=d_flagship3_search_srp_jobs',\n",
    "    'https://www.linkedin.com/jobs/view/3488630612/?alternateChannel=search&refId=NWABB47NCvXLKrd7Ykt7TA%3D%3D&trackingId=0HkaQFncmzSAAm1VAFz%2F6g%3D%3D&trk=d_flagship3_search_srp_jobs',\n",
    "    'https://www.linkedin.com/jobs/view/3496102239/?alternateChannel=search&refId=NWABB47NCvXLKrd7Ykt7TA%3D%3D&trackingId=JiYcbVpm%2BKz%2Fl9HpYKM2ow%3D%3D&trk=d_flagship3_search_srp_jobs',\n",
    "    'https://www.linkedin.com/jobs/view/3495674661/?alternateChannel=search&refId=NWABB47NCvXLKrd7Ykt7TA%3D%3D&trackingId=B1rPbwrTjIzCrTSyGxGDdw%3D%3D&trk=d_flagship3_search_srp_jobs',\n",
    "    'https://www.linkedin.com/jobs/view/3491959780/?alternateChannel=search&refId=UgS%2BLnzOxzd0o5lfBwrIUg%3D%3D&trackingId=yCZVySVeiQvNcAs8tV7O5g%3D%3D&trk=d_flagship3_search_srp_jobs',\n",
    "    'https://www.linkedin.com/jobs/view/3482557663/?alternateChannel=search&refId=bUuSO67FACleck0qLIsOEw%3D%3D&trackingId=eFtodEnJq8%2FvDhGKTFy9vA%3D%3D&trk=d_flagship3_search_srp_jobs',\n",
    "    'https://www.linkedin.com/jobs/view/3497655155/?alternateChannel=search&refId=bUuSO67FACleck0qLIsOEw%3D%3D&trackingId=yaesC0%2FtNjjOxUrebgAuow%3D%3D&trk=d_flagship3_search_srp_jobs',\n",
    "    'https://www.linkedin.com/jobs/view/3496092247/?alternateChannel=search&refId=tD86EsvkK2i9il%2BaH3%2FXhQ%3D%3D&trackingId=MwHDvID6jzlUD%2BPT1jU%2FdA%3D%3D&trk=d_flagship3_search_srp_jobs',\n",
    "    'https://www.linkedin.com/jobs/view/3493897268/?alternateChannel=search&refId=bUuSO67FACleck0qLIsOEw%3D%3D&trackingId=GBF0o%2BqVmbDn5c36zI4qcQ%3D%3D&trk=d_flagship3_search_srp_jobs',\n",
    "    'https://www.linkedin.com/jobs/view/3496092247/?alternateChannel=search&refId=VHK7B18qKFlkneKMGosKdg%3D%3D&trackingId=1rwG%2BDddA1JXaBxCVyhSyg%3D%3D&trk=d_flagship3_search_srp_jobs',\n",
    "    'https://www.linkedin.com/jobs/view/3495686468/?alternateChannel=search&refId=bUuSO67FACleck0qLIsOEw%3D%3D&trackingId=SnethqT%2B4%2Fa89lESpJllDw%3D%3D&trk=d_flagship3_search_srp_jobs',\n",
    "    'https://www.linkedin.com/jobs/view/3485531526/?alternateChannel=search&refId=bUuSO67FACleck0qLIsOEw%3D%3D&trackingId=eRDs7hsAjfDBS8Tt8iIThQ%3D%3D&trk=d_flagship3_search_srp_jobs',\n",
    "    'https://www.linkedin.com/jobs/view/3503792094/?alternateChannel=search&refId=bUuSO67FACleck0qLIsOEw%3D%3D&trackingId=P%2FRB55O%2B%2BGYAP8gTL9ugzQ%3D%3D&trk=d_flagship3_search_srp_jobs',\n",
    "    'https://www.linkedin.com/jobs/view/3495654543/?alternateChannel=search&refId=bUuSO67FACleck0qLIsOEw%3D%3D&trackingId=lc3G0c8WgTlWBNO0saNtbg%3D%3D&trk=d_flagship3_search_srp_jobs',\n",
    "    'https://www.linkedin.com/jobs/view/3495654842/?alternateChannel=search&refId=bUuSO67FACleck0qLIsOEw%3D%3D&trackingId=zn%2FE4wTVmE%2F1Z1f4C2ZVKA%3D%3D&trk=d_flagship3_search_srp_jobs',\n",
    "    'https://www.linkedin.com/jobs/view/3491485328/?alternateChannel=search&refId=bUuSO67FACleck0qLIsOEw%3D%3D&trackingId=fzlqSgFB2yLvKnF%2BhSCwNA%3D%3D&trk=d_flagship3_search_srp_jobs',\n",
    "    'https://www.linkedin.com/jobs/view/3491485328/?alternateChannel=search&refId=bUuSO67FACleck0qLIsOEw%3D%3D&trackingId=fzlqSgFB2yLvKnF%2BhSCwNA%3D%3D&trk=d_flagship3_search_srp_jobs',\n",
    "    'https://www.linkedin.com/jobs/view/3480285201/?alternateChannel=search&refId=bUuSO67FACleck0qLIsOEw%3D%3D&trackingId=oKy93LI7m48hkD5o%2FU0Gaw%3D%3D&trk=d_flagship3_search_srp_jobs',\n",
    "    'https://www.linkedin.com/jobs/view/3488092382/?alternateChannel=search&refId=bUuSO67FACleck0qLIsOEw%3D%3D&trackingId=uMo5pboZR48Oo%2B0SoQup6g%3D%3D&trk=d_flagship3_search_srp_jobs',\n",
    "    'https://www.linkedin.com/jobs/view/3500262772/?alternateChannel=search&refId=bUuSO67FACleck0qLIsOEw%3D%3D&trackingId=73%2FfPVUyE3OOrGXUb%2FmCWA%3D%3D&trk=d_flagship3_search_srp_jobs',\n",
    "    'https://www.linkedin.com/jobs/view/3489487289/?alternateChannel=search&refId=bUuSO67FACleck0qLIsOEw%3D%3D&trackingId=lx8CV2%2Fymqo3tMC%2BI4hsYQ%3D%3D&trk=d_flagship3_search_srp_jobs',\n",
    "    'https://www.linkedin.com/jobs/view/3495634532/?alternateChannel=search&refId=bUuSO67FACleck0qLIsOEw%3D%3D&trackingId=MFGxvS1mP%2BSqvl3o%2Fu1Sxg%3D%3D&trk=d_flagship3_search_srp_jobs',\n",
    "    'https://www.linkedin.com/jobs/view/3494529354/?alternateChannel=search&refId=bUuSO67FACleck0qLIsOEw%3D%3D&trackingId=KmkV0t2YATwAzRNVksZZKA%3D%3D&trk=d_flagship3_search_srp_jobs',\n",
    "    'https://www.linkedin.com/jobs/view/3494564440/?alternateChannel=search&refId=bUuSO67FACleck0qLIsOEw%3D%3D&trackingId=V0rJXgQpqFgEFsEjKH9nIA%3D%3D&trk=d_flagship3_search_srp_jobs',\n",
    "    'https://www.linkedin.com/jobs/view/3495693106/?alternateChannel=search&refId=dkG0OgTVkJlbNe5Acdpd%2BA%3D%3D&trackingId=CX0IhX5V77rvigNHMkIrrQ%3D%3D&trk=d_flagship3_search_srp_jobs',\n",
    "    'https://www.linkedin.com/jobs/view/3487777637/?alternateChannel=search&refId=dkG0OgTVkJlbNe5Acdpd%2BA%3D%3D&trackingId=BgtW%2FNgcmVtsXQiKzYtNoA%3D%3D&trk=d_flagship3_search_srp_jobs',\n",
    "    'https://www.linkedin.com/jobs/view/3487709897/?alternateChannel=search&refId=dkG0OgTVkJlbNe5Acdpd%2BA%3D%3D&trackingId=PShEgSQ3izBxrBULeHxCkA%3D%3D&trk=d_flagship3_search_srp_jobs',\n",
    "    'https://www.linkedin.com/jobs/view/3512466597/?alternateChannel=search&refId=dkG0OgTVkJlbNe5Acdpd%2BA%3D%3D&trackingId=%2FyLV2WJVdHyZomxOtwp4jA%3D%3D&trk=d_flagship3_search_srp_jobs',\n",
    "    'https://www.linkedin.com/jobs/view/3495654381/?alternateChannel=search&refId=dkG0OgTVkJlbNe5Acdpd%2BA%3D%3D&trackingId=5FlcyfVV9LL3fKelk0mxKw%3D%3D&trk=d_flagship3_search_srp_jobs',\n",
    "    'https://www.linkedin.com/jobs/view/3497733873/?alternateChannel=search&refId=dkG0OgTVkJlbNe5Acdpd%2BA%3D%3D&trackingId=lnnR0DzdirfW1u1zNtOlPw%3D%3D&trk=d_flagship3_search_srp_jobs',\n",
    "    'https://www.linkedin.com/jobs/view/3499554593/?alternateChannel=search&refId=dkG0OgTVkJlbNe5Acdpd%2BA%3D%3D&trackingId=B3KwFaQdacHuzEgbG%2FG8bQ%3D%3D&trk=d_flagship3_search_srp_jobs',\n",
    "    'https://www.linkedin.com/jobs/view/3494451117/?alternateChannel=search&refId=dkG0OgTVkJlbNe5Acdpd%2BA%3D%3D&trackingId=N4k%2FFHwodKXVcTP%2FmHLYqw%3D%3D&trk=d_flagship3_search_srp_jobs',\n",
    "    'https://www.linkedin.com/jobs/view/3512451344/?alternateChannel=search&refId=dkG0OgTVkJlbNe5Acdpd%2BA%3D%3D&trackingId=5XaohZQ6qB63Z7tIIjjhQA%3D%3D&trk=d_flagship3_search_srp_jobs',\n",
    "    'https://www.linkedin.com/jobs/view/3494238784/?alternateChannel=search&refId=dkG0OgTVkJlbNe5Acdpd%2BA%3D%3D&trackingId=igZN8F%2BOFt6%2Byp2snzd8YQ%3D%3D&trk=d_flagship3_search_srp_jobs',\n",
    "    'https://www.linkedin.com/jobs/view/3500266283/?alternateChannel=search&refId=dkG0OgTVkJlbNe5Acdpd%2BA%3D%3D&trackingId=kclMX7LrdETh0v4POX0vLw%3D%3D&trk=d_flagship3_search_srp_jobs',\n",
    "    'https://www.linkedin.com/jobs/view/3495578342/?alternateChannel=search&refId=dkG0OgTVkJlbNe5Acdpd%2BA%3D%3D&trackingId=0Ob422e1FO0DIIXMvSm5EQ%3D%3D&trk=d_flagship3_search_srp_jobs',\n",
    "    'https://www.linkedin.com/jobs/view/3490804946/?alternateChannel=search&refId=dkG0OgTVkJlbNe5Acdpd%2BA%3D%3D&trackingId=cuqQcFpGS9y5yq7gb3UV7Q%3D%3D&trk=d_flagship3_search_srp_jobs',\n",
    "    'https://www.linkedin.com/jobs/view/3512520788/?alternateChannel=search&refId=dkG0OgTVkJlbNe5Acdpd%2BA%3D%3D&trackingId=mjG2eaO8VZpMtzSy4P3Owg%3D%3D&trk=d_flagship3_search_srp_jobs',\n",
    "    'https://www.linkedin.com/jobs/view/3490303130/?alternateChannel=search&refId=dkG0OgTVkJlbNe5Acdpd%2BA%3D%3D&trackingId=4zpQrFg96sHFDEjZ3zdqBg%3D%3D&trk=d_flagship3_search_srp_jobs',\n",
    "    'https://www.linkedin.com/jobs/view/3493909748/?alternateChannel=search&refId=dkG0OgTVkJlbNe5Acdpd%2BA%3D%3D&trackingId=1HilajB3LHEsvebT4PNQTg%3D%3D&trk=d_flagship3_search_srp_jobs',\n",
    "    'https://www.linkedin.com/jobs/view/3485549081/?alternateChannel=search&refId=dkG0OgTVkJlbNe5Acdpd%2BA%3D%3D&trackingId=tBtPBbnxI%2BnQb68734FC1Q%3D%3D&trk=d_flagship3_search_srp_jobs',\n",
    "    'https://www.linkedin.com/jobs/view/3496797402/?alternateChannel=search&refId=dkG0OgTVkJlbNe5Acdpd%2BA%3D%3D&trackingId=KcmjmUD7%2F7bG%2FZlZlX0qtA%3D%3D&trk=d_flagship3_search_srp_jobs',\n",
    "    'https://www.linkedin.com/jobs/view/3507194381/?alternateChannel=search&refId=dkG0OgTVkJlbNe5Acdpd%2BA%3D%3D&trackingId=qyDp2TbPLRTBq2maWevV6g%3D%3D&trk=d_flagship3_search_srp_jobs',\n",
    "    'https://www.linkedin.com/jobs/view/3488658887/?alternateChannel=search&refId=dkG0OgTVkJlbNe5Acdpd%2BA%3D%3D&trackingId=SRHp0scNNRfnjwftbEAPoQ%3D%3D&trk=d_flagship3_search_srp_jobs',\n",
    "    'https://www.linkedin.com/jobs/view/3505492538/?alternateChannel=search&refId=tjE8t1GFVv2h1AdFOsRIzA%3D%3D&trackingId=pQS1%2BXa7jJ5c5ORNPG2oDw%3D%3D&trk=d_flagship3_search_srp_jobs',\n",
    "    'https://www.linkedin.com/jobs/view/3505496763/?alternateChannel=search&refId=tjE8t1GFVv2h1AdFOsRIzA%3D%3D&trackingId=Ky1AMuFgVY0eg5xWXAV6pA%3D%3D&trk=d_flagship3_search_srp_jobs',\n",
    "    'https://www.linkedin.com/jobs/view/3496431666/?alternateChannel=search&refId=tjE8t1GFVv2h1AdFOsRIzA%3D%3D&trackingId=BIxqiZZTckSPgzv7Eo0JYw%3D%3D&trk=d_flagship3_search_srp_jobs',\n",
    "    'https://www.linkedin.com/jobs/view/3511827145/?alternateChannel=search&refId=tjE8t1GFVv2h1AdFOsRIzA%3D%3D&trackingId=XHmIhAk%2BQvSuRU%2BaeYe88A%3D%3D&trk=d_flagship3_search_srp_jobs',\n",
    "    'https://www.linkedin.com/jobs/view/3512429439/?alternateChannel=search&refId=tjE8t1GFVv2h1AdFOsRIzA%3D%3D&trackingId=n8SEoeoz1dfLqu47MuFjIA%3D%3D&trk=d_flagship3_search_srp_jobs',\n",
    "    'https://www.linkedin.com/jobs/view/3512515787/?alternateChannel=search&refId=tjE8t1GFVv2h1AdFOsRIzA%3D%3D&trackingId=rsvwuW%2BCsyvBzd3tFuKprg%3D%3D&trk=d_flagship3_search_srp_jobs',\n",
    "    'https://www.linkedin.com/jobs/view/3505448647/?alternateChannel=search&refId=tjE8t1GFVv2h1AdFOsRIzA%3D%3D&trackingId=V6v0QByb4WC%2BUTOlI4Vv9A%3D%3D&trk=d_flagship3_search_srp_jobs',\n",
    "    'https://www.linkedin.com/jobs/view/3507896566/?alternateChannel=search&refId=tjE8t1GFVv2h1AdFOsRIzA%3D%3D&trackingId=C%2Fb04eEQ2XPmAhNMYmxTrw%3D%3D&trk=d_flagship3_search_srp_jobs',\n",
    "    'https://www.linkedin.com/jobs/view/3505424217/?alternateChannel=search&refId=tjE8t1GFVv2h1AdFOsRIzA%3D%3D&trackingId=eWfeN2eGi2trEqZzQHTpwA%3D%3D&trk=d_flagship3_search_srp_jobs',\n",
    "    'https://www.linkedin.com/jobs/view/3505905528/?alternateChannel=search&refId=tjE8t1GFVv2h1AdFOsRIzA%3D%3D&trackingId=zsbcfe9%2BZyo2KpmJUx2LLw%3D%3D&trk=d_flagship3_search_srp_jobs',\n",
    "    'https://www.linkedin.com/jobs/view/3500269812/?alternateChannel=search&refId=tjE8t1GFVv2h1AdFOsRIzA%3D%3D&trackingId=XtAo8iXdP8AvjWWwD8nD6Q%3D%3D&trk=d_flagship3_search_srp_jobs',\n",
    "    'https://www.linkedin.com/jobs/view/3511369169/?alternateChannel=search&refId=tjE8t1GFVv2h1AdFOsRIzA%3D%3D&trackingId=MMecUSa%2BH63rhaZ%2FFRZR6w%3D%3D&trk=d_flagship3_search_srp_jobs',\n",
    "    'https://www.linkedin.com/jobs/view/3495610932/?alternateChannel=search&refId=tjE8t1GFVv2h1AdFOsRIzA%3D%3D&trackingId=J3JlNhwuDXXFk%2BzWOwTiMg%3D%3D&trk=d_flagship3_search_srp_jobs',\n",
    "    'https://www.linkedin.com/jobs/view/3507844077/?alternateChannel=search&refId=tjE8t1GFVv2h1AdFOsRIzA%3D%3D&trackingId=eg3UbzwOtVX1ODBaF0EmKQ%3D%3D&trk=d_flagship3_search_srp_jobs',\n",
    "    'https://www.linkedin.com/jobs/view/3507860531/?alternateChannel=search&refId=tjE8t1GFVv2h1AdFOsRIzA%3D%3D&trackingId=Snpgxpd6WRLVZpJbHpBDzw%3D%3D&trk=d_flagship3_search_srp_jobs',\n",
    "    'https://www.linkedin.com/jobs/view/3490606955/?alternateChannel=search&refId=PoisozcNOKyt2tr%2Fz76%2BRA%3D%3D&trackingId=DCxbydnFgo3SRPa%2FHTYJUA%3D%3D&trk=d_flagship3_search_srp_jobs',\n",
    "    'https://www.linkedin.com/jobs/view/3493466568/?alternateChannel=search&refId=PoisozcNOKyt2tr%2Fz76%2BRA%3D%3D&trackingId=sTkNRmT6MNXgFu82uvfz6A%3D%3D&trk=d_flagship3_search_srp_jobs',\n",
    "    'https://www.linkedin.com/jobs/view/3495647309/?alternateChannel=search&refId=PoisozcNOKyt2tr%2Fz76%2BRA%3D%3D&trackingId=RkJ%2FKZoNLXDamjy887uYYg%3D%3D&trk=d_flagship3_search_srp_jobs',\n",
    "    'https://www.linkedin.com/jobs/view/3494073924/?alternateChannel=search&refId=PoisozcNOKyt2tr%2Fz76%2BRA%3D%3D&trackingId=gWsH6wbX8xqRYkZq7r4AFQ%3D%3D&trk=d_flagship3_search_srp_jobs',\n",
    "    'https://www.linkedin.com/jobs/view/3485575875/?alternateChannel=search&refId=PoisozcNOKyt2tr%2Fz76%2BRA%3D%3D&trackingId=NsRV%2FetbSd8wHxul61SKLw%3D%3D&trk=d_flagship3_search_srp_jobs',\n",
    "    'https://www.linkedin.com/jobs/view/3498811906/?alternateChannel=search&refId=PoisozcNOKyt2tr%2Fz76%2BRA%3D%3D&trackingId=rDebeUGzBQw19sg98lGXzw%3D%3D&trk=d_flagship3_search_srp_jobs',\n",
    "    'https://www.linkedin.com/jobs/view/3494592372/?alternateChannel=search&refId=PoisozcNOKyt2tr%2Fz76%2BRA%3D%3D&trackingId=jtLvE1kETibm%2BJVF0Xak%2BA%3D%3D&trk=d_flagship3_search_srp_jobs',\n",
    "    'https://www.linkedin.com/jobs/view/3486412422/?alternateChannel=search&refId=PoisozcNOKyt2tr%2Fz76%2BRA%3D%3D&trackingId=LFl2SSkSQUGLNKZAOjBwZA%3D%3D&trk=d_flagship3_search_srp_jobs',\n",
    "    'https://www.linkedin.com/jobs/view/3498130371/?alternateChannel=search&refId=PoisozcNOKyt2tr%2Fz76%2BRA%3D%3D&trackingId=S5%2F3%2FvefEvnT%2FGDg6OSkPw%3D%3D&trk=d_flagship3_search_srp_jobs',\n",
    "    'https://www.linkedin.com/jobs/view/3501081381/?alternateChannel=search&refId=PoisozcNOKyt2tr%2Fz76%2BRA%3D%3D&trackingId=BdLYQyqU14CzyrYTmJYlmQ%3D%3D&trk=d_flagship3_search_srp_jobs',\n",
    "    'https://www.linkedin.com/jobs/view/3495815900/?alternateChannel=search&refId=PoisozcNOKyt2tr%2Fz76%2BRA%3D%3D&trackingId=9Vm07nw6qvAl1PI7N2og%2BA%3D%3D&trk=d_flagship3_search_srp_jobs',\n",
    "    'https://www.linkedin.com/jobs/view/3489481743/?alternateChannel=search&refId=PoisozcNOKyt2tr%2Fz76%2BRA%3D%3D&trackingId=P3kK82gRd%2BMURBwBr21qLw%3D%3D&trk=d_flagship3_search_srp_jobs',\n",
    "    'https://www.linkedin.com/jobs/view/3495476456/?alternateChannel=search&refId=PoisozcNOKyt2tr%2Fz76%2BRA%3D%3D&trackingId=Dt%2F%2Fz%2B4jn3qiAjzOkKCaiA%3D%3D&trk=d_flagship3_search_srp_jobs',\n",
    "    'https://www.linkedin.com/jobs/view/3489526424/?alternateChannel=search&refId=UgS%2BLnzOxzd0o5lfBwrIUg%3D%3D&trackingId=%2FRUhZbHsdO6F6vJ%2BYNSkdw%3D%3D&trk=d_flagship3_search_srp_jobs',\n",
    "    'https://www.linkedin.com/jobs/view/3488623693/?alternateChannel=search&refId=UgS%2BLnzOxzd0o5lfBwrIUg%3D%3D&trackingId=PSYr740wMPbe%2FZZx%2BPCQxA%3D%3D&trk=d_flagship3_search_srp_jobs',\n",
    "    'https://www.linkedin.com/jobs/view/3492602300/?alternateChannel=search&refId=UgS%2BLnzOxzd0o5lfBwrIUg%3D%3D&trackingId=wSyeZXXhgtMUxl2lkOdp5w%3D%3D&trk=d_flagship3_search_srp_jobs',\n",
    "    'https://www.linkedin.com/jobs/view/3503741339/?alternateChannel=search&refId=UgS%2BLnzOxzd0o5lfBwrIUg%3D%3D&trackingId=zIhbNtFJmy5ZXEu1GBnZ8A%3D%3D&trk=d_flagship3_search_srp_jobs',\n",
    "    'https://www.linkedin.com/jobs/view/3497727530/?alternateChannel=search&refId=UgS%2BLnzOxzd0o5lfBwrIUg%3D%3D&trackingId=02ldEIy%2BIL%2BUrVUe5BOc0w%3D%3D&trk=d_flagship3_search_srp_jobs',\n",
    "    'https://www.linkedin.com/jobs/view/3497727530/?alternateChannel=search&refId=UgS%2BLnzOxzd0o5lfBwrIUg%3D%3D&trackingId=02ldEIy%2BIL%2BUrVUe5BOc0w%3D%3D&trk=d_flagship3_search_srp_jobs',\n",
    "    'https://www.linkedin.com/jobs/view/3488239050/?alternateChannel=search&refId=UgS%2BLnzOxzd0o5lfBwrIUg%3D%3D&trackingId=xFWvNOU50J5jZ9TTsXwDRA%3D%3D&trk=d_flagship3_search_srp_jobs'\n",
    "]"
   ]
  },
  {
   "cell_type": "code",
   "execution_count": 5,
   "id": "54cf6b83",
   "metadata": {},
   "outputs": [
    {
     "data": {
      "text/plain": [
       "100"
      ]
     },
     "execution_count": 5,
     "metadata": {},
     "output_type": "execute_result"
    }
   ],
   "source": [
    "len(url)"
   ]
  },
  {
   "cell_type": "code",
   "execution_count": 6,
   "id": "983c17ec",
   "metadata": {},
   "outputs": [],
   "source": [
    "data_analyst1= [collect_data(i) for i in url[0:10]] "
   ]
  },
  {
   "cell_type": "code",
   "execution_count": null,
   "id": "a6827cba",
   "metadata": {},
   "outputs": [],
   "source": [
    "data_analyst2 = [collect_data(i) for i in url[10:20]]"
   ]
  },
  {
   "cell_type": "code",
   "execution_count": null,
   "id": "1d421613",
   "metadata": {},
   "outputs": [],
   "source": [
    "data_analyst3 = [collect_data(i) for i in url[20:30]]"
   ]
  },
  {
   "cell_type": "code",
   "execution_count": null,
   "id": "6e0d742d",
   "metadata": {},
   "outputs": [],
   "source": [
    "data_analyst4 = [collect_data(i) for i in url[30:40]]"
   ]
  },
  {
   "cell_type": "code",
   "execution_count": null,
   "id": "8cec3bbb",
   "metadata": {},
   "outputs": [],
   "source": [
    "data_analyst5 = [collect_data(i) for i in url[40:50]]"
   ]
  },
  {
   "cell_type": "code",
   "execution_count": null,
   "id": "bb0c3a11",
   "metadata": {},
   "outputs": [],
   "source": [
    "data_analyst6 = [collect_data(i) for i in url[50:60]]"
   ]
  },
  {
   "cell_type": "code",
   "execution_count": null,
   "id": "44dedb3c",
   "metadata": {},
   "outputs": [],
   "source": [
    "data_analyst7 = [collect_data(i) for i in url[60:70]]"
   ]
  },
  {
   "cell_type": "code",
   "execution_count": null,
   "id": "2a6ce7a7",
   "metadata": {},
   "outputs": [],
   "source": [
    "data_analyst8 = [collect_data(i) for i in url[70:80]]"
   ]
  },
  {
   "cell_type": "code",
   "execution_count": 20,
   "id": "5f4db554",
   "metadata": {},
   "outputs": [],
   "source": [
    "data_analyst9 = [collect_data(i) for i in url[80:90]]"
   ]
  },
  {
   "cell_type": "code",
   "execution_count": 15,
   "id": "b43d6951",
   "metadata": {},
   "outputs": [],
   "source": [
    "data_analyst10 = [collect_data(i) for i in url[90:100]]"
   ]
  },
  {
   "cell_type": "code",
   "execution_count": 21,
   "id": "bddd8b6e",
   "metadata": {},
   "outputs": [
    {
     "data": {
      "text/plain": [
       "100"
      ]
     },
     "execution_count": 21,
     "metadata": {},
     "output_type": "execute_result"
    }
   ],
   "source": [
    "#create one list\n",
    "data_analyst_final =  (\n",
    "    data_analyst1 + \n",
    "    data_analyst2 + \n",
    "    data_analyst3 +\n",
    "    data_analyst4 +\n",
    "    data_analyst5 +\n",
    "    data_analyst6 +\n",
    "    data_analyst7 +\n",
    "    data_analyst8 +\n",
    "    data_analyst9 +\n",
    "    data_analyst10) #merge the data_analyst folds\n",
    "len(data_analyst_final)\n"
   ]
  },
  {
   "cell_type": "code",
   "execution_count": 22,
   "id": "6e28fc3e",
   "metadata": {},
   "outputs": [
    {
     "name": "stdout",
     "output_type": "stream",
     "text": [
      "10\n",
      "10\n",
      "10\n",
      "10\n",
      "10\n",
      "10\n",
      "10\n",
      "10\n",
      "10\n",
      "10\n"
     ]
    }
   ],
   "source": [
    "print(len(data_analyst1))\n",
    "print(len(data_analyst2))\n",
    "print(len(data_analyst3))\n",
    "print(len(data_analyst4))\n",
    "print(len(data_analyst5))\n",
    "print(len(data_analyst6))\n",
    "print(len(data_analyst7))\n",
    "print(len(data_analyst8))\n",
    "print(len(data_analyst9))\n",
    "print(len(data_analyst10))"
   ]
  },
  {
   "cell_type": "code",
   "execution_count": 25,
   "id": "a500f854",
   "metadata": {},
   "outputs": [],
   "source": [
    "#creating csv file for 100 data anlyst postings\n",
    "import csv\n",
    "\n",
    "keys =data_analyst_final[0].keys()\n",
    "\n",
    "with open('data_analyst.csv', 'w', newline='') as output_file:\n",
    "    dict_writer = csv.DictWriter(output_file, keys)\n",
    "    dict_writer.writeheader()\n",
    "    dict_writer.writerows(data_analyst_final)"
   ]
  },
  {
   "cell_type": "code",
   "execution_count": null,
   "id": "33231ff8",
   "metadata": {
    "scrolled": true
   },
   "outputs": [],
   "source": [
    "#number = 0\n",
    "#for i in url:\n",
    "   # number += 1\n",
    "   # print(number)\n",
    "   # print(i)\n",
    "    #collect_data(i)"
   ]
  },
  {
   "cell_type": "code",
   "execution_count": null,
   "id": "27588079",
   "metadata": {},
   "outputs": [],
   "source": []
  },
  {
   "cell_type": "code",
   "execution_count": null,
   "id": "5e4e6f6c",
   "metadata": {},
   "outputs": [],
   "source": []
  }
 ],
 "metadata": {
  "kernelspec": {
   "display_name": "Python 3 (ipykernel)",
   "language": "python",
   "name": "python3"
  },
  "language_info": {
   "codemirror_mode": {
    "name": "ipython",
    "version": 3
   },
   "file_extension": ".py",
   "mimetype": "text/x-python",
   "name": "python",
   "nbconvert_exporter": "python",
   "pygments_lexer": "ipython3",
   "version": "3.8.6"
  }
 },
 "nbformat": 4,
 "nbformat_minor": 5
}
