{
 "cells": [
  {
   "cell_type": "markdown",
   "id": "0b8fb8c6",
   "metadata": {},
   "source": [
    "# Ideas for the Project\n",
    "\n",
    "Only Scrape from \"Data Scientist\" and \"Data Analyst\" DO NOT include Business Analyst or prefixes like Senior/Junior\n",
    "\n",
    "## Warning\n",
    "These functions may be buggy and need fixing but I hope this jumpstarts the data collection process for you. Feel free to edit the functions if they aren't doing what you need properly"
   ]
  },
  {
   "cell_type": "code",
   "execution_count": 243,
   "id": "1d5c74f4",
   "metadata": {},
   "outputs": [
    {
     "data": {
      "text/plain": [
       "<Response [200]>"
      ]
     },
     "execution_count": 243,
     "metadata": {},
     "output_type": "execute_result"
    }
   ],
   "source": [
    "import requests\n",
    "import numpy as np\n",
    "import pandas as pd\n",
    "from bs4 import BeautifulSoup \n",
    "import nltk\n",
    "import numpy as np\n",
    "import re\n",
    "from nltk.corpus import wordnet\n",
    "from selenium import webdriver"
   ]
  },
  {
   "cell_type": "code",
   "execution_count": 181,
   "id": "7c1efccc",
   "metadata": {},
   "outputs": [],
   "source": [
    "def raw_text(url):\n",
    "    \"\"\"Takes a URL as input and performs web scrapping to retrieve the body of the\n",
    "    webpage (in this case a Linkedin ad)\"\"\"\n",
    "    ad = requests.get(url) #Retrieve webpage\n",
    "    Html = BeautifulSoup(ad.text, 'html.parser') #Convert html into a nicer format\n",
    "    text_body = Html.find_all('div', \n",
    "                              {'class':\"show-more-less-html__markup show-more-less-html__markup--clamp-after-5\"})\n",
    "    text_body = text_body[0].text\n",
    "    return text_body\n",
    "def clean_text(doc):\n",
    "    \"\"\"Take an unstructured document and tokenize it into a list of words. \n",
    "    Then standardize it by lowercasing and lemmatizing each word\"\"\"\n",
    "    words = re.findall(r'(?:[a-zA-Z]|#|\"+\")+',doc) #Find all alphabetical words (Preserve + and # for C++ and C#)\n",
    "    stopwords = nltk.corpus.stopwords.words(\"english\")\n",
    "    words = [i.lower() for i in words] #Lowercase all words\n",
    "    words = [i for i in words if i not in stopwords] #Filter out stopwords\n",
    "    tag_words = nltk.pos_tag(words) #Begin lemmatizing by tagging each word\n",
    "    tag_words = [(i, wordnet_pos(j)) for (i, j) in tag_words] #Convert the tags into something the lemmatizer understands\n",
    "    lemmatizer = nltk.WordNetLemmatizer()\n",
    "    clean_words = [lemmatizer.lemmatize(i, j) for i, j in tag_words] #Lemmatize the words\n",
    "    #Document should be cleaned up\n",
    "    return clean_words\n",
    "def wordnet_pos(tag):\n",
    "    \"\"\"Map a Brown POS tag to a WordNet POS tag.\"\"\"\n",
    "    \n",
    "    table = {\"N\": wordnet.NOUN, \"V\": wordnet.VERB, \"R\": wordnet.ADV, \"J\": wordnet.ADJ}\n",
    "    \n",
    "    # Default to a noun.\n",
    "    return table.get(tag[0], wordnet.NOUN) #Function created by Bo Ning in Week 6-2\n",
    "def lang_count(text):\n",
    "    \"\"\" Take a body of clean text and count the number of programming languages present\"\"\"\n",
    "    languages = ['python','r','sql','sa','c',\n",
    "                 'c++','c#','java','javascript',\n",
    "                 'julia','matlab','swift','tableau'\n",
    "                'microsoft','github'] #SAS turns into sa after lemmatization\n",
    "    #ADD MORE LANGUAGES IF NECESSARY\n",
    "    count = sum([i in text for i in languages]) #Check if each language is in the ad\n",
    "    #And sum the number of programming languages present\n",
    "    return count"
   ]
  },
  {
   "cell_type": "code",
   "execution_count": 276,
   "id": "84630d68",
   "metadata": {},
   "outputs": [],
   "source": [
    "def get_salary(text):\n",
    "    \"\"\"From a body of raw text, retrieve the salary\"\"\"\n",
    "    salaries = re.findall(r\"(\\d+\\,\\d+\\.\\d{1,2})\",text) \n",
    "    if salaries != []:\n",
    "        return salaries[-1] #Let's work with the maximum salary\n",
    "    else:\n",
    "        salaries = re.findall(r\"(\\d+\\,\\d+)\",text) \n",
    "        if salaries != []:\n",
    "            return salaries[-1]\n",
    "        else:\n",
    "            return \"NaN\"\n",
    "def ML_skill(text):\n",
    "    \"\"\"Using a body of clean text, check whether the words machine learning is present\n",
    "    to see if it is a required skill\"\"\"\n",
    "    return str(int('machine' in text and 'learning' in text))\n",
    "def get_edu(text):\n",
    "    \"\"\"Using a body of raw text, retrieve the education level\"\"\"\n",
    "    if \"Master\" in text and \"Bachelor\" in text:\n",
    "        return \"4\" #Category where Bachlor's is minimum but higher level preferred\n",
    "    elif \"PhD\" in text:\n",
    "        return \"3\"\n",
    "    elif \"Master\" in text:\n",
    "        return \"2\"\n",
    "    elif \"Bachelor\" in text:\n",
    "        return \"1\"\n",
    "    else:\n",
    "        return \"0\" #No education specified\n",
    "def ad_type(text):\n",
    "    \"\"\"Using a body of clean text, check whether this is an ad for data analyst or scientists\"\"\"\n",
    "    return str(int(\"science\" in text))\n",
    "def benefits(text):\n",
    "    \"\"\"Using a body of raw text, check if benefits are included\"\"\"\n",
    "    return str(int('Benefits' in text or 'benefits' in text))\n",
    "def exp(text):\n",
    "    \"\"\"Using a body of raw text, check if experience is required/preferred\"\"\"\n",
    "    return str(int(\"experience\" in text))"
   ]
  },
  {
   "cell_type": "code",
   "execution_count": 250,
   "id": "79d10db2",
   "metadata": {},
   "outputs": [],
   "source": [
    "def collect_data(url):\n",
    "    \"\"\"Input a URL for a Linkedin Ad and retrieve all relevant data\"\"\"\n",
    "    raw = raw_text(url)\n",
    "    clean = clean_text(raw)\n",
    "    return {'Languages':lang_count(clean),\n",
    "            'Salary':get_salary(raw),\n",
    "            'Machine Learning':ML_skill(clean),\n",
    "            'Education':get_edu(raw),\n",
    "            'Type': ad_type(clean),\n",
    "            'Benefits':benefits(raw),\n",
    "            'Experience':exp(raw)}"
   ]
  },
  {
   "cell_type": "code",
   "execution_count": 254,
   "id": "b88b18ac",
   "metadata": {},
   "outputs": [],
   "source": [
    "raw = raw_text('https://www.linkedin.com/jobs/view/3492106426/?alternateChannel=search&refId=rKjt309G%2Bcgm96lG7K9V4w%3D%3D&trackingId=jRvZLlqPS%2FSxMQpDc9liGQ%3D%3D')"
   ]
  },
  {
   "cell_type": "code",
   "execution_count": 262,
   "id": "27090403",
   "metadata": {},
   "outputs": [],
   "source": [
    "words = re.findall(r'(?:[a-zA-Z]|#|\"+\")+',raw)"
   ]
  },
  {
   "cell_type": "code",
   "execution_count": 277,
   "id": "1bd5fae0",
   "metadata": {},
   "outputs": [
    {
     "data": {
      "text/plain": [
       "{'Languages': 2,\n",
       " 'Salary': '45,000',\n",
       " 'Machine Learning': '0',\n",
       " 'Education': '1',\n",
       " 'Type': '1',\n",
       " 'Benefits': '1',\n",
       " 'Experience': '1'}"
      ]
     },
     "execution_count": 277,
     "metadata": {},
     "output_type": "execute_result"
    }
   ],
   "source": [
    "collect_data('https://www.linkedin.com/jobs/view/3492106426/?alternateChannel=search&refId=rKjt309G%2Bcgm96lG7K9V4w%3D%3D&trackingId=jRvZLlqPS%2FSxMQpDc9liGQ%3D%3D')"
   ]
  },
  {
   "cell_type": "code",
   "execution_count": 274,
   "id": "0d0d3506",
   "metadata": {},
   "outputs": [
    {
     "data": {
      "text/plain": [
       "[]"
      ]
     },
     "execution_count": 274,
     "metadata": {},
     "output_type": "execute_result"
    }
   ],
   "source": [
    "re.findall(r\"(\\d+\\,\\d+\\.\\d{0,1,2})\",raw) "
   ]
  },
  {
   "cell_type": "code",
   "execution_count": 273,
   "id": "905b8361",
   "metadata": {},
   "outputs": [
    {
     "data": {
      "text/plain": [
       "\"\\nOverviewAs a leading global media network, Omnicom Media Group (OMG) sets itself apart with an agile, client-first approach that helps businesses thrive today and into the future. With more than 21,000 employees globally, OMG has the talent, expertise and clout to deliver unprecedented levels of innovation for our clients. The group is comprised of some of the world's most awarded agencies. From leadership to entry-level talent, we are a diverse mix of ages, genders, ethnicities, skill sets and backgrounds. This role will be on a highly visible team, fully dedicated to the success of our client, L’Oréal.For more than a century, L’Oréal has devoted its energy, innovation, and scientific excellence solely to one business: Beauty. Their goal is to offer each and every person around the world the best of beauty in terms of quality, efficacy, safety, sincerity and responsibility to satisfy all beauty needs and desires in their infinite diversity.Qualifications:Must have hands-on expertise in Python; SQL proficiency preferred as wellExperience with cloud computing platforms, such as AWS or GCP and others1+ years of industry experience; knowledge of ad-tech ecosystem and programmatic advertising a plusBachelor’s degree in Statistics, Mathematics, Economics, Engineering, Information Management, Social Sciences, or Business/Marketing related fields; advanced quantitative degree or intensive bootcamp experience is preferredResponsibilitiesWorking with data from ad servers, DSP’s, measurement partners, other online/offline datasets to develop client-specific solutionsUncovering inventory & performance insights for clients:Independently formulating and executing a testing & analysis planTranslating quantitative results back into actionable insightsHands-on machine learning and statistical modeling for outcomes predictionCollaboratively ideating and building tools that aid with model transparency, visualization of optimization effects and performance measurement/monitoringQuickly learning to navigate external log-level data feeds, UI’s & API’sDocumenting and sharing knowledge with cross-functional Omnicom teamsThis would be a Great Fit if…You are excited about working for a young, high-growth company where things are changing every day.In fact, you thrive in environments where there is ambiguity, no matter how chaotic the circumstances, you know how to handle a lot of moving parts without getting overwhelmed and you enjoy bringing a sense of order and process to that chaos. You are always curious and always eager to better understand, to expand your knowledge, and encouraging that knowledge with others. You write and speak eloquently, no matter how tired or stressed you are, with a focus on efficiency and intention. You enjoy digging into the work, you follow through on every responsibility and are willing to seek out the unspoken expectations. You understand that delegating does not mean shirking but supporting those you are relying and trusting on to help handle that work. You have a good sense of humor. Perks of working at AnnalectCulture! We have an incredibly fun, collaborative and friendly environment that encourages work/life balance.Generous PTO policy that includes vacation days, personal days, a fantastic Summer Fridays program, and extended time off during the winter holidays!As part of Omnicom, we have the backing and resources of a global billion-dollar company, but also have the flexibility and pace of a “startup” - we move fast, break things, and innovate.Compensation Range: $30,000-$45,000annually. This is the pay range the Company believes it will pay for this position at the time of this posting. Consistent with applicable law, compensation will be determined based on relevant experience, other job-related qualifications/skills, and geographic location (to account for comparative cost of living). The Company reserves the right to modify this pay range at any time. For this role, Benefits include: health/vision/dental insurance, 401(k), Healthcare Flexible Spending Account, Dependent Care Flexible Spending Account, vacation, sick, personal days, paid parental leave, and paid medical leave, STD/LTD insurance benefits.OMG is An Equal Opportunity/Affirmative Action Employer. All qualified applicants will receive consideration for employment without regard to race, color, religion, sex, sexual orientation, gender identity, national origin, disability or veteran status, age or any other federally protected class.\\n\""
      ]
     },
     "execution_count": 273,
     "metadata": {},
     "output_type": "execute_result"
    }
   ],
   "source": [
    "raw"
   ]
  },
  {
   "cell_type": "code",
   "execution_count": 275,
   "id": "a3a87afe",
   "metadata": {},
   "outputs": [
    {
     "data": {
      "text/plain": [
       "['21,000', '30,000', '45,000']"
      ]
     },
     "execution_count": 275,
     "metadata": {},
     "output_type": "execute_result"
    }
   ],
   "source": [
    "re.findall(r\"(\\d+\\,\\d+)\",raw) "
   ]
  },
  {
   "cell_type": "code",
   "execution_count": null,
   "id": "eec6fe52",
   "metadata": {},
   "outputs": [],
   "source": []
  }
 ],
 "metadata": {
  "kernelspec": {
   "display_name": "Python 3 (ipykernel)",
   "language": "python",
   "name": "python3"
  },
  "language_info": {
   "codemirror_mode": {
    "name": "ipython",
    "version": 3
   },
   "file_extension": ".py",
   "mimetype": "text/x-python",
   "name": "python",
   "nbconvert_exporter": "python",
   "pygments_lexer": "ipython3",
   "version": "3.9.12"
  }
 },
 "nbformat": 4,
 "nbformat_minor": 5
}
