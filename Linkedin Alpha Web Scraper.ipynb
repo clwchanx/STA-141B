{
 "cells": [
  {
   "cell_type": "markdown",
   "id": "0b8fb8c6",
   "metadata": {},
   "source": [
    "# Ideas for the Project\n",
    "\n",
    "Only Scrape from \"Data Scientist\" and \"Data Analyst\" DO NOT include Business Analyst or prefixes like Senior/Junior\n",
    "\n",
    "## Warning\n",
    "These functions may be buggy and need fixing but I hope this jumpstarts the data collection process for you. Feel free to edit the functions if they aren't doing what you need properly"
   ]
  },
  {
   "cell_type": "code",
   "execution_count": 243,
   "id": "1d5c74f4",
   "metadata": {},
   "outputs": [
    {
     "data": {
      "text/plain": [
       "<Response [200]>"
      ]
     },
     "execution_count": 243,
     "metadata": {},
     "output_type": "execute_result"
    }
   ],
   "source": [
    "import requests\n",
    "import numpy as np\n",
    "import pandas as pd\n",
    "from bs4 import BeautifulSoup \n",
    "import nltk\n",
    "import numpy as np\n",
    "import re\n",
    "from nltk.corpus import wordnet\n",
    "from selenium import webdriver"
   ]
  },
  {
   "cell_type": "code",
   "execution_count": 300,
   "id": "7c1efccc",
   "metadata": {},
   "outputs": [],
   "source": [
    "def raw_text(url):\n",
    "    \"\"\"Takes a URL as input and performs web scrapping to retrieve the body of the\n",
    "    webpage (in this case a Linkedin ad)\"\"\"\n",
    "    ad = requests.get(url) #Retrieve webpage\n",
    "    Html = BeautifulSoup(ad.text, 'html.parser') #Convert html into a nicer format\n",
    "    text_body = Html.find_all('div', \n",
    "                              {'class':\"show-more-less-html__markup show-more-less-html__markup--clamp-after-5\"})\n",
    "    text_body = text_body[0].text\n",
    "    return text_body\n",
    "def clean_text(doc):\n",
    "    \"\"\"Take an unstructured document and tokenize it into a list of words. \n",
    "    Then standardize it by lowercasing and lemmatizing each word\"\"\"\n",
    "    words = re.findall(r'(?:[a-zA-Z]|#|\"+\")+',doc) #Find all alphabetical words (Preserve + and # for C++ and C#)\n",
    "    clean = [i for i in words if i.isupper() or i.islower()] #Retrieve all words that aren't glued to each other\n",
    "    dirty = [i for i in words if not i.islower() and not i.isupper()] #Retrieve words stuck together\n",
    "    dirty = [re.findall('[a-zA-Z][^A-Z]*',i) for i in dirty] #Split all the tangled words ie split 'ThisExample' into ['This','Example']\n",
    "    clean2 = [j for i in dirty for j in i] #Unlist the list of lists\n",
    "    words = clean + clean2 #Combine all the words together\n",
    "    stopwords = nltk.corpus.stopwords.words(\"english\")\n",
    "    words = [i.lower() for i in words] #Lowercase all words\n",
    "    words = [i for i in words if i not in stopwords] #Filter out stopwords\n",
    "    tag_words = nltk.pos_tag(words) #Begin lemmatizing by tagging each word\n",
    "    tag_words = [(i, wordnet_pos(j)) for (i, j) in tag_words] #Convert the tags into something the lemmatizer understands\n",
    "    lemmatizer = nltk.WordNetLemmatizer()\n",
    "    clean_words = [lemmatizer.lemmatize(i, j) for i, j in tag_words] #Lemmatize the words\n",
    "    #Document should be cleaned up\n",
    "    return clean_words\n",
    "def wordnet_pos(tag):\n",
    "    \"\"\"Map a Brown POS tag to a WordNet POS tag.\"\"\"\n",
    "    \n",
    "    table = {\"N\": wordnet.NOUN, \"V\": wordnet.VERB, \"R\": wordnet.ADV, \"J\": wordnet.ADJ}\n",
    "    \n",
    "    # Default to a noun.\n",
    "    return table.get(tag[0], wordnet.NOUN) #Function created by Bo Ning in Week 6-2\n",
    "def lang_count(TXT):\n",
    "    \"\"\" Take a body of clean text and count the number of programming languages present\"\"\"\n",
    "    languages = ['python','r','sql','sa','c',\n",
    "                 'c++','c#','java','javascript',\n",
    "                 'julia','matlab','swift','tableau'\n",
    "                'microsoft','github'] #SAS turns into sa after lemmatization\n",
    "    #ADD MORE LANGUAGES IF NECESSARY\n",
    "    count = sum([i in TXT for i in languages]) #Check if each language is in the ad\n",
    "    #And sum the number of programming languages present\n",
    "    return count\n",
    "def get_salary(TXT):\n",
    "    \"\"\"From a body of raw text, retrieve the salary\"\"\"\n",
    "    salaries = re.findall(r\"(\\$\\d+\\,\\d+\\.\\d{1,2})\",TXT) #Find all numbers with $ , and .\n",
    "    if salaries != []:\n",
    "        return salaries[-1] #Let's work with the maximum salary\n",
    "    else:\n",
    "        salaries = re.findall(r\"(\\$\\d+\\,\\d+)\",TXT) \n",
    "        if salaries != []:\n",
    "            return salaries[-1]\n",
    "        else:\n",
    "            return \"NaN\"\n",
    "def ML_skill(TXT):\n",
    "    \"\"\"Using a body of clean text, check whether the words machine learning is present\n",
    "    to see if it is a required skill\"\"\"\n",
    "    return str(int('machine' in TXT and 'learning' in TXT))\n",
    "def get_edu(TXT):\n",
    "    \"\"\"Using a body of raw text, retrieve the education level\"\"\"\n",
    "    if \"Master\" in TXT and \"Bachelor\" in TXT:\n",
    "        return \"4\" #Category where Bachlor's is minimum but higher level preferred\n",
    "    elif \"PhD\" in TXT:\n",
    "        return \"3\"\n",
    "    elif \"Master\" in TXT:\n",
    "        return \"2\"\n",
    "    elif \"Bachelor\" in TXT:\n",
    "        return \"1\"\n",
    "    else:\n",
    "        return \"0\" #No education specified\n",
    "def ad_type(TXT):\n",
    "    \"\"\"Using a body of clean text, check whether this is an ad for data analyst or scientists\"\"\"\n",
    "    return str(int(\"science\" in TXT))\n",
    "def benefits(TXT):\n",
    "    \"\"\"Using a body of raw text, check if benefits are included\"\"\"\n",
    "    return str(int('Benefits' in TXT or 'benefits' in TXT))\n",
    "def exp(TXT):\n",
    "    \"\"\"Using a body of raw text, check if experience is required/preferred\"\"\"\n",
    "    sentences = nltk.sent_tokenize(TXT) #Split text into sentences\n",
    "    years = [re.findall(r\"\\d+.*year\", i) for i in sentences] #Find sentences with years in it\n",
    "    years = [i for i in years if i != []][0][0] #Get rid of empty values and turn the years of experience into a string\n",
    "    year = re.findall(r'\\d+',years)[0]\n",
    "    return year"
   ]
  },
  {
   "cell_type": "code",
   "execution_count": 382,
   "id": "79d10db2",
   "metadata": {},
   "outputs": [],
   "source": [
    "def collect_data(url):\n",
    "    \"\"\"Input a URL for a Linkedin Ad and retrieve all relevant data\"\"\"\n",
    "    raw = raw_text(url)\n",
    "    clean = clean_text(raw)\n",
    "    return {'Languages':lang_count(clean),\n",
    "            'Salary':get_salary(raw),\n",
    "            'Machine Learning':ML_skill(clean),\n",
    "            'Education':get_edu(raw),\n",
    "            'Type': ad_type(clean),\n",
    "            'Benefits':benefits(raw),\n",
    "            'Experience':exp(raw),\n",
    "            'url':url}"
   ]
  },
  {
   "cell_type": "code",
   "execution_count": 378,
   "id": "58a300a3",
   "metadata": {},
   "outputs": [],
   "source": [
    "ex = collect_data(url)"
   ]
  },
  {
   "cell_type": "code",
   "execution_count": 362,
   "id": "1173ffe0",
   "metadata": {},
   "outputs": [
    {
     "data": {
      "text/plain": [
       "[]"
      ]
     },
     "execution_count": 362,
     "metadata": {},
     "output_type": "execute_result"
    }
   ],
   "source": [
    "r\"(\\d+\\,\\d+)\""
   ]
  },
  {
   "cell_type": "code",
   "execution_count": 366,
   "id": "e52cd5af",
   "metadata": {},
   "outputs": [
    {
     "data": {
      "text/plain": [
       "['$30,000', '$45,000']"
      ]
     },
     "execution_count": 366,
     "metadata": {},
     "output_type": "execute_result"
    }
   ],
   "source": [
    "re.findall(r\"(\\$\\d+\\,\\d+)\",raw) "
   ]
  },
  {
   "cell_type": "code",
   "execution_count": 379,
   "id": "19450bbf",
   "metadata": {},
   "outputs": [
    {
     "data": {
      "text/plain": [
       "{'Languages': 1,\n",
       " 'Salary': '$207,000',\n",
       " 'Machine Learning': '0',\n",
       " 'Education': '2',\n",
       " 'Type': '0',\n",
       " 'Benefits': '1',\n",
       " 'Experience': '5'}"
      ]
     },
     "execution_count": 379,
     "metadata": {},
     "output_type": "execute_result"
    }
   ],
   "source": [
    "ex"
   ]
  },
  {
   "cell_type": "code",
   "execution_count": 377,
   "id": "2f9f8c21",
   "metadata": {},
   "outputs": [],
   "source": [
    "url = 'https://www.linkedin.com/jobs/view/3503242054/?alternateChannel=search&refId=rKjt309G%2Bcgm96lG7K9V4w%3D%3D&trackingId=AP31drQeO2%2B7gbjIhTmHOg%3D%3D'"
   ]
  },
  {
   "cell_type": "code",
   "execution_count": 373,
   "id": "4dd8ef92",
   "metadata": {},
   "outputs": [
    {
     "data": {
      "text/plain": [
       "\"\\nDescriptionThe Mars Agency is an award-winning, independently owned global commerce marketing practice with a growth-for-clients focus. With talent spanning the Americas, Europe and Asia, we create breakthrough, connected commerce solutions by balancing the smartest humanity with the latest technology. The agency’s latest MarTech platform, Marilyn®, is the industry's first and only end-to-end commerce advisor.We’re seeking a Senior Data Analyst. The Senior Data Analyst serves plays a critical role in all aspects of analytic client engagements. As part of the integrated team, the Senior Data Analyst engages in analytic project planning, preparing and analyzing data, generating reports, and making action-oriented recommendations to help move our clients business forward. The ideal candidate must be able to proactively communicate ideas and opportunities, execute with a high level of accuracy and demonstrate strong project management skillsWhat You’ll Do:Contribute to the development of the Performance Analytics capability for the agencyWork closely with cross-functional agency and client teams to define analytic needs and recommend methodologies with the ability to execute independentlyDevelop a strong partnership with the agency Data Scientist to support the needs of Shopper Marketing Mix ModelingImplement a data automation workflow to cleanse and prepare dataCollaborate with internal partners to improve work flows and data quality within defined areasImplement a data visualization process to aid in the data quality checking processSynthesize data from a variety of sources including IRI, ACNielsen, media, customer specific POS, shopper loyalty databases, consumer research and category management tools to identify and prioritize business-building opportunitiesPerform data hygiene and recoding as necessaryBoth assist in the creation of, and owning the creation of client-ready reports with a focus on visual story tellingAutomate labor intensive data processing routines to drive efficiencySkillsets Required:Bachelor’s degreeMinimum of 5 years of experience working with data; experience in consumer marketing, retail and CPG industries a plusPassion for data and analytics and the value of data driven decision makingAbility to tell a visual story that leads to results and decision makingDetail orientated with the ability to handle multiple clients and projects simultaneouslyAbility to work proactively and efficiently with a very high level of qualityTeam player with strong relationship building, communication, and presentation skillsKnowledge of digital and/or marketing analytics preferred but not requiredExperience working with IRI or Nielsen data preferredStrong Microsoft Office Suite (Word, Excel and PowerPoint) skillsStrong experience with Tableau, PowerBi, or any similar data visualization toolsExperience in SQL, Python, and R is a plusA ‘Clients First’ approach to everything you do. We work for and on behalf of our clients and always produce the very best results we possibly canThe Mars Agency is an Equal Opportunity Employer and will recruit, hire, train and promote persons in all job classifications without regard to race, ancestry, creed, color, sexual orientation, gender identity, age, national origin, disability or handicap, HIV, veteran, marital or family status, or any other status or condition protected by applicable state and/or federal laws, except where a bonafide occupational qualification applies.The Mars Agency has developed a wide variety of inclusive benefit plans and policies that address and promote the needs of all employees and their family members, including comprehensive group health plans, a parental leave program that includes paid maternity and paternity benefits for pregnancy, adoption and surrogacy, flexible paid time off, a broad and confidential employee assistance program, ongoing wellness support initiatives, trusted financial health advice and guidance, promotion of education through tuition support and assistance, and a flexible and supportive work environment and culture.#dp\\n\""
      ]
     },
     "execution_count": 373,
     "metadata": {},
     "output_type": "execute_result"
    }
   ],
   "source": [
    "raw_text(url)"
   ]
  },
  {
   "cell_type": "code",
   "execution_count": null,
   "id": "b43aa6da",
   "metadata": {},
   "outputs": [],
   "source": []
  }
 ],
 "metadata": {
  "kernelspec": {
   "display_name": "Python 3 (ipykernel)",
   "language": "python",
   "name": "python3"
  },
  "language_info": {
   "codemirror_mode": {
    "name": "ipython",
    "version": 3
   },
   "file_extension": ".py",
   "mimetype": "text/x-python",
   "name": "python",
   "nbconvert_exporter": "python",
   "pygments_lexer": "ipython3",
   "version": "3.9.12"
  }
 },
 "nbformat": 4,
 "nbformat_minor": 5
}
