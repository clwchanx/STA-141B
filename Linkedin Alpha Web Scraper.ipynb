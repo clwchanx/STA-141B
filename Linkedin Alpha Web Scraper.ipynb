{
 "cells": [
  {
   "cell_type": "markdown",
   "id": "0b8fb8c6",
   "metadata": {},
   "source": [
    "# Ideas for the Project\n",
    "\n",
    "Only Scrape from \"Data Scientist\" and \"Data Analyst\" DO NOT include Business Analyst or prefixes like Senior/Junior\n",
    "\n",
    "## Warning\n",
    "These functions may be buggy and need fixing but I hope this jumpstarts the data collection process for you. Feel free to edit the functions if they aren't doing what you need properly"
   ]
  },
  {
   "cell_type": "code",
   "execution_count": 398,
   "id": "1d5c74f4",
   "metadata": {},
   "outputs": [],
   "source": [
    "import requests\n",
    "import numpy as np\n",
    "import pandas as pd\n",
    "from bs4 import BeautifulSoup \n",
    "import nltk\n",
    "import numpy as np\n",
    "import re\n",
    "from nltk.corpus import wordnet"
   ]
  },
  {
   "cell_type": "code",
   "execution_count": 411,
   "id": "7c1efccc",
   "metadata": {},
   "outputs": [],
   "source": [
    "def raw_text(url):\n",
    "    \"\"\"Takes a URL as input and performs web scrapping to retrieve the body of the\n",
    "    webpage (in this case a Linkedin ad)\"\"\"\n",
    "    ad = requests.get(url) #Retrieve webpage\n",
    "    Html = BeautifulSoup(ad.text, 'html.parser') #Convert html into a nicer format\n",
    "    text_body = Html.find_all('div', \n",
    "                              {'class':\"show-more-less-html__markup show-more-less-html__markup--clamp-after-5\"})\n",
    "    text_body = text_body[0].text\n",
    "    return text_body\n",
    "def clean_text(doc):\n",
    "    \"\"\"Take an unstructured document and tokenize it into a list of words. \n",
    "    Then standardize it by lowercasing and lemmatizing each word\"\"\"\n",
    "    words = re.findall(r'(?:[a-zA-Z]|#|\"+\")+',doc) #Find all alphabetical words (Preserve + and # for C++ and C#)\n",
    "    clean = [i for i in words if i.isupper() or i.islower()] #Retrieve all words that aren't glued to each other\n",
    "    dirty = [i for i in words if not i.islower() and not i.isupper()] #Retrieve words stuck together\n",
    "    dirty = [re.findall('[a-zA-Z][^A-Z]*',i) for i in dirty] #Split all the tangled words ie split 'ThisExample' into ['This','Example']\n",
    "    clean2 = [j for i in dirty for j in i] #Unlist the list of lists\n",
    "    words = clean + clean2 #Combine all the words together\n",
    "    stopwords = nltk.corpus.stopwords.words(\"english\")\n",
    "    words = [i.lower() for i in words] #Lowercase all words\n",
    "    words = [i for i in words if i not in stopwords] #Filter out stopwords\n",
    "    tag_words = nltk.pos_tag(words) #Begin lemmatizing by tagging each word\n",
    "    tag_words = [(i, wordnet_pos(j)) for (i, j) in tag_words] #Convert the tags into something the lemmatizer understands\n",
    "    lemmatizer = nltk.WordNetLemmatizer()\n",
    "    clean_words = [lemmatizer.lemmatize(i, j) for i, j in tag_words] #Lemmatize the words\n",
    "    #Document should be cleaned up\n",
    "    return clean_words\n",
    "def wordnet_pos(tag):\n",
    "    \"\"\"Map a Brown POS tag to a WordNet POS tag.\"\"\"\n",
    "    \n",
    "    table = {\"N\": wordnet.NOUN, \"V\": wordnet.VERB, \"R\": wordnet.ADV, \"J\": wordnet.ADJ}\n",
    "    \n",
    "    # Default to a noun.\n",
    "    return table.get(tag[0], wordnet.NOUN) #Function created by Bo Ning in Week 6-2\n",
    "def lang_count(TXT):\n",
    "    \"\"\" Take a body of clean text and count the number of programming languages present\"\"\"\n",
    "    languages = ['python','r','sql','sa','c',\n",
    "                 'c++','c#','java','javascript',\n",
    "                 'julia','matlab','swift','tableau'\n",
    "                'microsoft','github'] #SAS turns into sa after lemmatization\n",
    "    #ADD MORE LANGUAGES IF NECESSARY\n",
    "    count = sum([i in TXT for i in languages]) #Check if each language is in the ad\n",
    "    #And sum the number of programming languages present\n",
    "    return count\n",
    "def get_salary(TXT):\n",
    "    \"\"\"From a body of raw text, retrieve the salary\"\"\"\n",
    "    salaries = re.findall(r\"(\\$\\d+\\,\\d+\\.\\d{1,2})\",TXT) #Find all numbers with $ , and .\n",
    "    if salaries != []:\n",
    "        return salaries[-1] #Let's work with the maximum salary\n",
    "    else:\n",
    "        salaries = re.findall(r\"(\\$\\d+\\,\\d+)\",TXT) \n",
    "        if salaries != []:\n",
    "            return salaries[-1]\n",
    "        else:\n",
    "            return \"NaN\"\n",
    "def ML_skill(TXT):\n",
    "    \"\"\"Using a body of clean text, check whether the words machine learning is present\n",
    "    to see if it is a required skill\"\"\"\n",
    "    return str(int('machine' in TXT and 'learning' in TXT))\n",
    "def get_edu(TXT):\n",
    "    \"\"\"Using a body of raw text, retrieve the education level\"\"\"\n",
    "    if \"Master\" in TXT and \"Bachelor\" in TXT:\n",
    "        return \"4\" #Category where Bachlor's is minimum but higher level preferred\n",
    "    elif \"PhD\" in TXT:\n",
    "        return \"3\"\n",
    "    elif \"Master\" in TXT:\n",
    "        return \"2\"\n",
    "    elif \"Bachelor\" in TXT:\n",
    "        return \"1\"\n",
    "    else:\n",
    "        return \"0\" #No education specified\n",
    "def ad_type(TXT):\n",
    "    \"\"\"Using a body of clean text, check whether this is an ad for data analyst or scientists\"\"\"\n",
    "    return str(int(\"science\" in TXT))\n",
    "def benefits(TXT):\n",
    "    \"\"\"Using a body of raw text, check if benefits are included\"\"\"\n",
    "    return str(int('Benefits' in TXT or 'benefits' in TXT))\n",
    "def exp(TXT):\n",
    "    \"\"\"Using a body of raw text, check if experience is required/preferred\"\"\"\n",
    "    sentences = nltk.sent_tokenize(TXT) #Split text into sentences\n",
    "    years = [re.findall(r\"\\d+.*year\", i) for i in sentences] #Find sentences with years in it\n",
    "    for items in years:\n",
    "        if items != []:\n",
    "            years = [i for i in years if i != []][0][0] #Get rid of empty values and turn the years of experience into a string\n",
    "            year = re.findall(r'\\d+',years)[0]\n",
    "            return year\n",
    "    else:\n",
    "        return \"NaN\""
   ]
  },
  {
   "cell_type": "code",
   "execution_count": 413,
   "id": "beb591fb",
   "metadata": {},
   "outputs": [
    {
     "data": {
      "text/plain": [
       "{'Languages': 2,\n",
       " 'Salary': 'NaN',\n",
       " 'Machine Learning': '0',\n",
       " 'Education': '0',\n",
       " 'Type': '1',\n",
       " 'Benefits': '0',\n",
       " 'Experience': 'NaN',\n",
       " 'url': 'https://www.linkedin.com/jobs/view/3495686468/?alternateChannel=search&refId=bUuSO67FACleck0qLIsOEw%3D%3D&trackingId=SnethqT%2B4%2Fa89lESpJllDw%3D%3D&trk=d_flagship3_search_srp_jobs'}"
      ]
     },
     "execution_count": 413,
     "metadata": {},
     "output_type": "execute_result"
    }
   ],
   "source": [
    "url = 'https://www.linkedin.com/jobs/view/3495686468/?alternateChannel=search&refId=bUuSO67FACleck0qLIsOEw%3D%3D&trackingId=SnethqT%2B4%2Fa89lESpJllDw%3D%3D&trk=d_flagship3_search_srp_jobs'\n",
    "collect_data(url)"
   ]
  },
  {
   "cell_type": "code",
   "execution_count": 406,
   "id": "aad0a0f6",
   "metadata": {},
   "outputs": [],
   "source": [
    "sentences = nltk.sent_tokenize(Text)"
   ]
  },
  {
   "cell_type": "code",
   "execution_count": 407,
   "id": "ebdc182c",
   "metadata": {},
   "outputs": [],
   "source": [
    "years = [re.findall(r\"\\d+.*year\", i) for i in sentences]"
   ]
  },
  {
   "cell_type": "code",
   "execution_count": 408,
   "id": "a63c4eda",
   "metadata": {},
   "outputs": [
    {
     "data": {
      "text/plain": [
       "[[], [], [], [], [], [], [], [], [], []]"
      ]
     },
     "execution_count": 408,
     "metadata": {},
     "output_type": "execute_result"
    }
   ],
   "source": [
    "years"
   ]
  },
  {
   "cell_type": "code",
   "execution_count": 383,
   "id": "79d10db2",
   "metadata": {},
   "outputs": [],
   "source": [
    "def collect_data(url):\n",
    "    \"\"\"Input a URL for a Linkedin Ad and retrieve all relevant data\"\"\"\n",
    "    raw = raw_text(url)\n",
    "    clean = clean_text(raw)\n",
    "    return {'Languages':lang_count(clean),\n",
    "            'Salary':get_salary(raw),\n",
    "            'Machine Learning':ML_skill(clean),\n",
    "            'Education':get_edu(raw),\n",
    "            'Type': ad_type(clean),\n",
    "            'Benefits':benefits(raw),\n",
    "            'Experience':exp(raw),\n",
    "            'url':url}"
   ]
  },
  {
   "cell_type": "code",
   "execution_count": 385,
   "id": "58a300a3",
   "metadata": {},
   "outputs": [],
   "source": [
    "ex = collect_data(url)"
   ]
  },
  {
   "cell_type": "code",
   "execution_count": 403,
   "id": "ae235fd0",
   "metadata": {},
   "outputs": [
    {
     "ename": "IndexError",
     "evalue": "list index out of range",
     "output_type": "error",
     "traceback": [
      "\u001b[0;31m---------------------------------------------------------------------------\u001b[0m",
      "\u001b[0;31mIndexError\u001b[0m                                Traceback (most recent call last)",
      "Input \u001b[0;32mIn [403]\u001b[0m, in \u001b[0;36m<cell line: 1>\u001b[0;34m()\u001b[0m\n\u001b[0;32m----> 1\u001b[0m \u001b[43mcollect_data\u001b[49m\u001b[43m(\u001b[49m\u001b[38;5;124;43m'\u001b[39;49m\u001b[38;5;124;43mhttps://www.linkedin.com/jobs/view/3432440096/?alternateChannel=search&refId=eNgF56y0kHsZDsBZdHLTsA\u001b[39;49m\u001b[38;5;124;43m%\u001b[39;49m\u001b[38;5;124;43m3D\u001b[39;49m\u001b[38;5;124;43m%\u001b[39;49m\u001b[38;5;124;43m3D&trackingId=ujLR\u001b[39;49m\u001b[38;5;132;43;01m%2F\u001b[39;49;00m\u001b[38;5;124;43mMSvoLhK0\u001b[39;49m\u001b[38;5;124;43m%\u001b[39;49m\u001b[38;5;124;43m2BX\u001b[39;49m\u001b[38;5;132;43;01m%2F\u001b[39;49;00m\u001b[38;5;124;43mEdU9HQ\u001b[39;49m\u001b[38;5;124;43m%\u001b[39;49m\u001b[38;5;124;43m3D\u001b[39;49m\u001b[38;5;124;43m%\u001b[39;49m\u001b[38;5;124;43m3D\u001b[39;49m\u001b[38;5;124;43m'\u001b[39;49m\u001b[43m)\u001b[49m\n",
      "Input \u001b[0;32mIn [383]\u001b[0m, in \u001b[0;36mcollect_data\u001b[0;34m(url)\u001b[0m\n\u001b[1;32m      3\u001b[0m raw \u001b[38;5;241m=\u001b[39m raw_text(url)\n\u001b[1;32m      4\u001b[0m clean \u001b[38;5;241m=\u001b[39m clean_text(raw)\n\u001b[1;32m      5\u001b[0m \u001b[38;5;28;01mreturn\u001b[39;00m {\u001b[38;5;124m'\u001b[39m\u001b[38;5;124mLanguages\u001b[39m\u001b[38;5;124m'\u001b[39m:lang_count(clean),\n\u001b[1;32m      6\u001b[0m         \u001b[38;5;124m'\u001b[39m\u001b[38;5;124mSalary\u001b[39m\u001b[38;5;124m'\u001b[39m:get_salary(raw),\n\u001b[1;32m      7\u001b[0m         \u001b[38;5;124m'\u001b[39m\u001b[38;5;124mMachine Learning\u001b[39m\u001b[38;5;124m'\u001b[39m:ML_skill(clean),\n\u001b[1;32m      8\u001b[0m         \u001b[38;5;124m'\u001b[39m\u001b[38;5;124mEducation\u001b[39m\u001b[38;5;124m'\u001b[39m:get_edu(raw),\n\u001b[1;32m      9\u001b[0m         \u001b[38;5;124m'\u001b[39m\u001b[38;5;124mType\u001b[39m\u001b[38;5;124m'\u001b[39m: ad_type(clean),\n\u001b[1;32m     10\u001b[0m         \u001b[38;5;124m'\u001b[39m\u001b[38;5;124mBenefits\u001b[39m\u001b[38;5;124m'\u001b[39m:benefits(raw),\n\u001b[0;32m---> 11\u001b[0m         \u001b[38;5;124m'\u001b[39m\u001b[38;5;124mExperience\u001b[39m\u001b[38;5;124m'\u001b[39m:\u001b[43mexp\u001b[49m\u001b[43m(\u001b[49m\u001b[43mraw\u001b[49m\u001b[43m)\u001b[49m,\n\u001b[1;32m     12\u001b[0m         \u001b[38;5;124m'\u001b[39m\u001b[38;5;124murl\u001b[39m\u001b[38;5;124m'\u001b[39m:url}\n",
      "Input \u001b[0;32mIn [402]\u001b[0m, in \u001b[0;36mexp\u001b[0;34m(TXT)\u001b[0m\n\u001b[1;32m     81\u001b[0m years \u001b[38;5;241m=\u001b[39m [re\u001b[38;5;241m.\u001b[39mfindall(\u001b[38;5;124mr\u001b[39m\u001b[38;5;124m\"\u001b[39m\u001b[38;5;124m\\\u001b[39m\u001b[38;5;124md+.*year\u001b[39m\u001b[38;5;124m\"\u001b[39m, i) \u001b[38;5;28;01mfor\u001b[39;00m i \u001b[38;5;129;01min\u001b[39;00m sentences] \u001b[38;5;66;03m#Find sentences with years in it\u001b[39;00m\n\u001b[1;32m     82\u001b[0m \u001b[38;5;28;01mif\u001b[39;00m years \u001b[38;5;241m!=\u001b[39m []:\n\u001b[0;32m---> 83\u001b[0m     years \u001b[38;5;241m=\u001b[39m \u001b[43m[\u001b[49m\u001b[43mi\u001b[49m\u001b[43m \u001b[49m\u001b[38;5;28;43;01mfor\u001b[39;49;00m\u001b[43m \u001b[49m\u001b[43mi\u001b[49m\u001b[43m \u001b[49m\u001b[38;5;129;43;01min\u001b[39;49;00m\u001b[43m \u001b[49m\u001b[43myears\u001b[49m\u001b[43m \u001b[49m\u001b[38;5;28;43;01mif\u001b[39;49;00m\u001b[43m \u001b[49m\u001b[43mi\u001b[49m\u001b[43m \u001b[49m\u001b[38;5;241;43m!=\u001b[39;49m\u001b[43m \u001b[49m\u001b[43m[\u001b[49m\u001b[43m]\u001b[49m\u001b[43m]\u001b[49m\u001b[43m[\u001b[49m\u001b[38;5;241;43m0\u001b[39;49m\u001b[43m]\u001b[49m[\u001b[38;5;241m0\u001b[39m] \u001b[38;5;66;03m#Get rid of empty values and turn the years of experience into a string\u001b[39;00m\n\u001b[1;32m     84\u001b[0m     year \u001b[38;5;241m=\u001b[39m re\u001b[38;5;241m.\u001b[39mfindall(\u001b[38;5;124mr\u001b[39m\u001b[38;5;124m'\u001b[39m\u001b[38;5;124m\\\u001b[39m\u001b[38;5;124md+\u001b[39m\u001b[38;5;124m'\u001b[39m,years)[\u001b[38;5;241m0\u001b[39m]\n\u001b[1;32m     85\u001b[0m     \u001b[38;5;28;01mreturn\u001b[39;00m year\n",
      "\u001b[0;31mIndexError\u001b[0m: list index out of range"
     ]
    }
   ],
   "source": [
    "collect_data('https://www.linkedin.com/jobs/view/3432440096/?alternateChannel=search&refId=eNgF56y0kHsZDsBZdHLTsA%3D%3D&trackingId=ujLR%2FMSvoLhK0%2BX%2FEdU9HQ%3D%3D')"
   ]
  },
  {
   "cell_type": "code",
   "execution_count": 362,
   "id": "1173ffe0",
   "metadata": {},
   "outputs": [
    {
     "data": {
      "text/plain": [
       "[]"
      ]
     },
     "execution_count": 362,
     "metadata": {},
     "output_type": "execute_result"
    }
   ],
   "source": [
    "r\"(\\d+\\,\\d+)\""
   ]
  },
  {
   "cell_type": "code",
   "execution_count": 366,
   "id": "e52cd5af",
   "metadata": {},
   "outputs": [
    {
     "data": {
      "text/plain": [
       "['$30,000', '$45,000']"
      ]
     },
     "execution_count": 366,
     "metadata": {},
     "output_type": "execute_result"
    }
   ],
   "source": [
    "re.findall(r\"(\\$\\d+\\,\\d+)\",raw) "
   ]
  },
  {
   "cell_type": "code",
   "execution_count": 379,
   "id": "19450bbf",
   "metadata": {},
   "outputs": [
    {
     "data": {
      "text/plain": [
       "{'Languages': 1,\n",
       " 'Salary': '$207,000',\n",
       " 'Machine Learning': '0',\n",
       " 'Education': '2',\n",
       " 'Type': '0',\n",
       " 'Benefits': '1',\n",
       " 'Experience': '5'}"
      ]
     },
     "execution_count": 379,
     "metadata": {},
     "output_type": "execute_result"
    }
   ],
   "source": [
    "ex"
   ]
  },
  {
   "cell_type": "code",
   "execution_count": 399,
   "id": "2f9f8c21",
   "metadata": {},
   "outputs": [],
   "source": [
    "url = 'https://www.linkedin.com/jobs/view/3503242054/?alternateChannel=search&refId=rKjt309G%2Bcgm96lG7K9V4w%3D%3D&trackingId=AP31drQeO2%2B7gbjIhTmHOg%3D%3D'"
   ]
  },
  {
   "cell_type": "code",
   "execution_count": 400,
   "id": "4dd8ef92",
   "metadata": {},
   "outputs": [
    {
     "data": {
      "text/plain": [
       "\"\\n        Principal Biostatistician - Remote in USA - TMTTRepresent the Biostatistics department on all aspects of the clinical development process, ranging from clinical trial designs to regulatory submissions while applying scientific rigor to statistical methods and interpretation of results and also advise on the conduct of clinical studies, database development and data quality assurance with the analysis of clinical endpoints in mind.Key Responsibilities:Statistical lead on one or more clinical trials, lead the coordination of analyses for study report and other documents and provide programming and validation support of these analysesCollaborate with core stakeholders to provide statistical expertise in support of new product development (NPD) and/or regulatory submissions (e.g., PMA, CE Mark, PMDA) and other regulatory documents as neededRepresent Biostatistics on project/study teams and coordinate/communicate with management and other team members regarding project/study status and timeline updateProvide statistical expertise on ad hoc data analysis requests and publication/presentation efforts related to the project teamCompile technical documents for internal and external auditsContribute to the improvement, standardization, and globalization of Biostatistics processes and procedures, including the development of Biostatistics Standard Operating Procedures (SOPs) and Work Instruction Manuals (WIMs)Collaborate on developing case report forms and clinical database to ensure quality data collectionLead the efforts of data analysis for data monitoring committee as neededEducation and Experience:Master's Degree or equivalent in Statistics, Biostatistics, or related field, PLUS 5 years of previous analytical experience in clinical trials Required ORPh.D. or equivalent in in Statistics, Biostatistics, or related field Plus 2 years of related experience RequiredAdditional Skills:Proven expertise in MS Office Suite including Word, PowerPoint, Access, and ExcelExcellent written and verbal communication skills and interpersonal relationship skills including negotiating and relationship management skillsKeeps abreast of new developments in statistics and regulatory guidanceExtensive understanding and knowledge in statistical methodologies related to clinical trial designs, statistical modeling and data analysesProven expertise in SASExperience using other software packages (e.g., R, S-Plus)Extensive understanding and knowledge of regulatory guidelines (e.g., GCP, ICH, FDA, ISO) relevant to in Pharmaceutical/Medical Device research settingExcellent problem-solving, organizational, analytical and critical thinking skillsStrong leadership skills and ability to influence changeAbility to provide training and coaching to lower level employeesExperience in facilitating change, including collaboration with management and executive stakeholdersStrict attention to detailAbility to interact professionally with all organizational levelsAbility to manage competing priorities in a fast paced environmentAbility to work in a team environment, including serving as consultant to managementAbility to interact with suppliers, vendors and/or customersAdhere to all company rules and requirements (e.g., pandemic protocols, Environmental Health & Safety rules) and take adequate control measures in preventing injuries to themselves and others as well as to the protection of environment and prevention of pollution under their span of influence/controlAligning our overall business objectives with performance, we offer competitive salaries, performance-based incentives, and a wide variety of benefits programs to address the diverse individual needs of our employees and their families.For California, the base pay range for this position is $146,000 to $207,000 (highly experienced).The pay for the successful candidate will depend on various factors (e.g., qualifications, education, prior experience).Edwards is an Equal Opportunity/Affirmative Action employer including protected Veterans and individuals with disabilities.COVID Vaccination RequirementEdwards is committed to complying with the requirements and guidance from our government authorities and to protecting our vulnerable patients and the healthcare providers who are treating them around the world. As such, all Healthcare Interacting positions require COVID-19 vaccination, which includes anyone who directly interfaces with patients and those who interact with healthcare providers as part of their role. If hired, as a condition of employment, you will be required to submit proof that you have been fully vaccinated for COVID-19, unless you request and are granted a medical or religious accommodation for exemption from the vaccination requirement. This vaccination requirement does not apply in countries where it is prohibited by law to impose vaccination. In countries where vaccines are less available, or other requirements exist, we may institute alternate measures that optimize patient safety and healthcare provider safety, which may include regular COVID testing or specific masking requirements.\\n      \""
      ]
     },
     "execution_count": 400,
     "metadata": {},
     "output_type": "execute_result"
    }
   ],
   "source": [
    "raw_text(url)"
   ]
  },
  {
   "cell_type": "code",
   "execution_count": null,
   "id": "aeb5016d",
   "metadata": {},
   "outputs": [],
   "source": []
  }
 ],
 "metadata": {
  "kernelspec": {
   "display_name": "Python 3 (ipykernel)",
   "language": "python",
   "name": "python3"
  },
  "language_info": {
   "codemirror_mode": {
    "name": "ipython",
    "version": 3
   },
   "file_extension": ".py",
   "mimetype": "text/x-python",
   "name": "python",
   "nbconvert_exporter": "python",
   "pygments_lexer": "ipython3",
   "version": "3.9.12"
  }
 },
 "nbformat": 4,
 "nbformat_minor": 5
}
